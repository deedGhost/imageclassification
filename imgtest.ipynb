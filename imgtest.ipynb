{
 "cells": [
  {
   "cell_type": "code",
   "execution_count": 1,
   "id": "3502af94",
   "metadata": {},
   "outputs": [],
   "source": [
    "import tkinter as tk\n",
    "from tkinter import filedialog\n",
    "from tkinter import messagebox\n",
    "from tensorflow.keras.models import model_from_json\n",
    "import numpy as np\n",
    "from PIL import Image, ImageTk"
   ]
  },
  {
   "cell_type": "code",
   "execution_count": 2,
   "id": "ec34bc01",
   "metadata": {},
   "outputs": [],
   "source": [
    "json_file = open(r\"model.json\", 'r')\n",
    "loaded_model_json = json_file.read()\n",
    "json_file.close()\n",
    "model = model_from_json(loaded_model_json)\n",
    "model.load_weights(r\"model_weights.h5\", by_name=True)"
   ]
  },
  {
   "cell_type": "code",
   "execution_count": 3,
   "id": "2b7712d7",
   "metadata": {},
   "outputs": [],
   "source": [
    "class_names = ['T-shirt/top', 'Trouser', 'Pullover', 'Dress', 'Coat', 'Sandal', 'Shirt', 'Sneaker', 'Bag', 'Ankle boot']"
   ]
  },
  {
   "cell_type": "code",
   "execution_count": 4,
   "id": "9a0e91bc",
   "metadata": {},
   "outputs": [],
   "source": [
    "def load_image():\n",
    "    file_path = filedialog.askopenfilename()\n",
    "    if file_path:\n",
    "        try:\n",
    "            image = Image.open(file_path)\n",
    "            image = image.resize((28, 28))\n",
    "            photo = ImageTk.PhotoImage(image)\n",
    "            image_label.config(image=photo)\n",
    "            image_label.image = photo\n",
    "            classify_button.config(state=tk.NORMAL)\n",
    "            global loaded_image\n",
    "            loaded_image = image.convert('L')\n",
    "        except Exception as e:\n",
    "            messagebox.showerror(\"Error\", f\"Error occurred: {e}\")\n",
    "\n",
    "def classify_image():\n",
    "    global loaded_image\n",
    "    try:\n",
    "        img_array = np.array(loaded_image)\n",
    "        if len(img_array.shape) == 3 and img_array.shape[2] == 3:\n",
    "            img_array = np.mean(img_array, axis=-1)\n",
    "            img_array = img_array / 255.0\n",
    "        elif len(img_array.shape) == 2:\n",
    "            img_array = img_array / 255.0\n",
    "        else:\n",
    "            raise ValueError(\"Invalid image format\")\n",
    "        img_array = np.asarray(Image.fromarray(img_array).resize((28, 28)))\n",
    "        if len(img_array.shape) == 2:\n",
    "            img_array = np.expand_dims(img_array, axis=0)\n",
    "            img_array = np.expand_dims(img_array, axis=-1)\n",
    "            print(f\"Input tensor shape: {img_array.shape}\")\n",
    "            prediction = model.predict(img_array)\n",
    "            predicted_class = np.argmax(prediction)\n",
    "            messagebox.showinfo(\"Prediction\", f\"The class is: {class_names[predicted_class]}\")\n",
    "        else:\n",
    "            raise ValueError(\"Invalid image shape\")\n",
    "    except Exception as e:\n",
    "        messagebox.showerror(\"Error\", f\"Error occurred: {e}\")\n",
    "\n",
    "def clear_display():\n",
    "    image_label.config(image=None)\n",
    "    classify_button.config(state=tk.DISABLED)\n",
    "    prediction_label.config(text=\"Prediction: \")\n",
    "    status_label.config(text=\"Status: Ready\")"
   ]
  },
  {
   "cell_type": "code",
   "execution_count": 19,
   "id": "7b9c77cb",
   "metadata": {},
   "outputs": [
    {
     "name": "stdout",
     "output_type": "stream",
     "text": [
      "Input tensor shape: (1, 28, 28, 1)\n",
      "1/1 [==============================] - 0s 32ms/step\n"
     ]
    }
   ],
   "source": [
    "root = tk.Tk()\n",
    "root.title(\"Fashion MNIST IMAGE CLASSIFICATION\")\n",
    "root.geometry(\"250x250\")\n",
    "root.configure(bg=\"lightgray\")\n",
    "\n",
    "image_label = tk.Label(root, bg=\"white\")\n",
    "image_label.pack(padx=10, pady=10, fill=\"both\")\n",
    "\n",
    "load_button = tk.Button(root, text=\"Load Your Image\", command=load_image, bg=\"blue\", fg=\"white\")\n",
    "load_button.pack(pady=5)\n",
    "\n",
    "classify_button = tk.Button(root, text=\"Classify\", command=classify_image, state=tk.DISABLED, bg=\"green\", fg=\"white\")\n",
    "classify_button.pack(pady=5)\n",
    "\n",
    "prediction_label = tk.Label(root, text=\"Prediction: \")\n",
    "prediction_label.pack(pady=5)\n",
    "\n",
    "status_label = tk.Label(root, text=\"Status: Ready\")\n",
    "status_label.pack(pady=5)\n",
    "\n",
    "clear_button = tk.Button(root, text=\"Clear\", command=clear_display, bg=\"red\", fg=\"white\")\n",
    "clear_button.pack(pady=5)\n",
    "\n",
    "root.mainloop()"
   ]
  },
  {
   "cell_type": "code",
   "execution_count": null,
   "id": "ad0254b6",
   "metadata": {},
   "outputs": [],
   "source": []
  }
 ],
 "metadata": {
  "kernelspec": {
   "display_name": "Python 3 (ipykernel)",
   "language": "python",
   "name": "python3"
  },
  "language_info": {
   "codemirror_mode": {
    "name": "ipython",
    "version": 3
   },
   "file_extension": ".py",
   "mimetype": "text/x-python",
   "name": "python",
   "nbconvert_exporter": "python",
   "pygments_lexer": "ipython3",
   "version": "3.11.4"
  }
 },
 "nbformat": 4,
 "nbformat_minor": 5
}
